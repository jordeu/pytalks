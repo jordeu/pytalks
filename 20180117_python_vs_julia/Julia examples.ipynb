{
 "cells": [
  {
   "cell_type": "markdown",
   "metadata": {},
   "source": [
    "&nbsp;\n",
    "\n",
    "&nbsp;\n",
    "\n",
    "&nbsp;\n",
    "\n",
    "\n",
    "# ... vs Julia\n",
    "### Data analysis oriented comparative \n",
    "---\n",
    "\n",
    "&nbsp;\n",
    "\n",
    "&nbsp;\n",
    "\n",
    "&nbsp;\n",
    "\n",
    "&nbsp;\n",
    "\n",
    "**Jordi Deu-Pons**\n",
    "\n",
    "@elbioc\n",
    "\n",
    "&nbsp;\n",
    "\n",
    "&nbsp;\n",
    "\n",
    "&nbsp;\n",
    "\n",
    "&nbsp;\n",
    "\n",
    "&nbsp;\n",
    "\n",
    "&nbsp;\n",
    "\n",
    "&nbsp;\n",
    "\n",
    "&nbsp;\n",
    "\n",
    "&nbsp;"
   ]
  },
  {
   "cell_type": "markdown",
   "metadata": {},
   "source": [
    "# Syntax and typing"
   ]
  },
  {
   "cell_type": "code",
   "execution_count": 1,
   "metadata": {
    "collapsed": true
   },
   "outputs": [
    {
     "data": {
      "text/plain": [
       "my_not_typed_method (generic function with 1 method)"
      ]
     },
     "execution_count": 1,
     "metadata": {},
     "output_type": "execute_result"
    }
   ],
   "source": [
    "function my_not_typed_method(x, y)\n",
    "    if x != y \n",
    "        print(\"Not equal\")\n",
    "    end\n",
    "    x * y\n",
    "end"
   ]
  },
  {
   "cell_type": "code",
   "execution_count": null,
   "metadata": {},
   "outputs": [
    {
     "name": "stdout",
     "output_type": "stream",
     "text": [
      "Not equal"
     ]
    },
    {
     "data": {
      "text/plain": [
       "2"
      ]
     },
     "execution_count": 2,
     "metadata": {},
     "output_type": "execute_result"
    }
   ],
   "source": [
    "my_not_typed_method(1, 2)"
   ]
  },
  {
   "cell_type": "code",
   "execution_count": 3,
   "metadata": {},
   "outputs": [
    {
     "name": "stdout",
     "output_type": "stream",
     "text": [
      "Not equal"
     ]
    },
    {
     "data": {
      "text/plain": [
       "\"ab\""
      ]
     },
     "execution_count": 3,
     "metadata": {},
     "output_type": "execute_result"
    }
   ],
   "source": [
    "my_not_typed_method(\"a\", \"b\")"
   ]
  },
  {
   "cell_type": "markdown",
   "metadata": {},
   "source": [
    "# Multiple dispatch"
   ]
  },
  {
   "cell_type": "code",
   "execution_count": 4,
   "metadata": {},
   "outputs": [
    {
     "data": {
      "text/plain": [
       "my_not_typed_method (generic function with 2 methods)"
      ]
     },
     "execution_count": 4,
     "metadata": {},
     "output_type": "execute_result"
    }
   ],
   "source": [
    "function my_not_typed_method(x::Integer, y::Integer)\n",
    "    if x != y\n",
    "        print(\"Not equal\")\n",
    "    end\n",
    "    x + y\n",
    "end"
   ]
  },
  {
   "cell_type": "code",
   "execution_count": 5,
   "metadata": {},
   "outputs": [
    {
     "name": "stdout",
     "output_type": "stream",
     "text": [
      "Not equal"
     ]
    },
    {
     "data": {
      "text/plain": [
       "3"
      ]
     },
     "execution_count": 5,
     "metadata": {},
     "output_type": "execute_result"
    }
   ],
   "source": [
    "my_not_typed_method(1, 2)"
   ]
  },
  {
   "cell_type": "code",
   "execution_count": 6,
   "metadata": {},
   "outputs": [
    {
     "name": "stdout",
     "output_type": "stream",
     "text": [
      "Not equal"
     ]
    },
    {
     "data": {
      "text/plain": [
       "\"ab\""
      ]
     },
     "execution_count": 6,
     "metadata": {},
     "output_type": "execute_result"
    }
   ],
   "source": [
    "my_not_typed_method(\"a\", \"b\")"
   ]
  },
  {
   "cell_type": "code",
   "execution_count": 7,
   "metadata": {},
   "outputs": [
    {
     "name": "stdout",
     "output_type": "stream",
     "text": [
      "Not equal"
     ]
    },
    {
     "data": {
      "text/plain": [
       "0.06"
      ]
     },
     "execution_count": 7,
     "metadata": {},
     "output_type": "execute_result"
    }
   ],
   "source": [
    "my_not_typed_method(0.3, 0.2)"
   ]
  },
  {
   "cell_type": "markdown",
   "metadata": {},
   "source": [
    "&nbsp;\n",
    "\n",
    "&nbsp;\n",
    "\n",
    "&nbsp;\n",
    "\n",
    "&nbsp;\n",
    "\n",
    "&nbsp;\n",
    "\n",
    "&nbsp;\n",
    "\n",
    "&nbsp;\n",
    "\n",
    "&nbsp;\n",
    "\n",
    "&nbsp;"
   ]
  },
  {
   "cell_type": "markdown",
   "metadata": {},
   "source": [
    "# Loops performance"
   ]
  },
  {
   "cell_type": "code",
   "execution_count": 9,
   "metadata": {},
   "outputs": [
    {
     "name": "stdout",
     "output_type": "stream",
     "text": [
      "  2.838715 seconds (200.00 M allocations: 2.980 GiB, 2.85% gc time)\n"
     ]
    },
    {
     "data": {
      "text/plain": [
       "5000000050000000"
      ]
     },
     "execution_count": 9,
     "metadata": {},
     "output_type": "execute_result"
    }
   ],
   "source": [
    "@time begin\n",
    "   total = 0\n",
    "   for i = 0:100000000\n",
    "       total += i\n",
    "   end    \n",
    "end\n",
    "total"
   ]
  },
  {
   "cell_type": "code",
   "execution_count": 10,
   "metadata": {},
   "outputs": [
    {
     "name": "stdout",
     "output_type": "stream",
     "text": [
      "  0.008951 seconds (981 allocations: 52.497 KiB)\n",
      "  0.000002 seconds (5 allocations: 176 bytes)\n"
     ]
    },
    {
     "data": {
      "text/plain": [
       "5000000050000005"
      ]
     },
     "execution_count": 10,
     "metadata": {},
     "output_type": "execute_result"
    }
   ],
   "source": [
    "function test_loop(ini_value)\n",
    "   total = ini_value\n",
    "   for i = 1:100000000\n",
    "       total += i\n",
    "   end    \n",
    "   total\n",
    "end\n",
    "\n",
    "@time test_loop(3)\n",
    "@time test_loop(5)"
   ]
  },
  {
   "cell_type": "markdown",
   "metadata": {},
   "source": [
    "&nbsp;\n",
    "\n",
    "&nbsp;\n",
    "\n",
    "&nbsp;\n",
    "\n",
    "&nbsp;\n",
    "\n",
    "&nbsp;\n",
    "\n",
    "&nbsp;\n",
    "\n",
    "&nbsp;\n",
    "\n",
    "&nbsp;\n",
    "\n",
    "&nbsp;"
   ]
  },
  {
   "cell_type": "markdown",
   "metadata": {},
   "source": [
    "# Arrays performance"
   ]
  },
  {
   "cell_type": "code",
   "execution_count": null,
   "metadata": {},
   "outputs": [
    {
     "name": "stdout",
     "output_type": "stream",
     "text": [
      "  3.553805 seconds (50.00 M allocations: 1.246 GiB, 56.49% gc time)\n",
      "  1.498201 seconds (50.00 M allocations: 1.246 GiB)\n"
     ]
    }
   ],
   "source": [
    "function test_array()\n",
    "   my_array = []\n",
    "   for i = 1:50000000\n",
    "       append!(my_array, i)\n",
    "   end    \n",
    "end\n",
    "\n",
    "@time test_array()\n",
    "@time test_array()"
   ]
  },
  {
   "cell_type": "markdown",
   "metadata": {},
   "source": [
    "## Preallocation"
   ]
  },
  {
   "cell_type": "code",
   "execution_count": 39,
   "metadata": {},
   "outputs": [
    {
     "name": "stdout",
     "output_type": "stream",
     "text": [
      "  1.130142 seconds (50.00 M allocations: 1.118 GiB, 27.57% gc time)\n",
      "  1.591546 seconds (50.00 M allocations: 1.118 GiB, 50.34% gc time)\n"
     ]
    }
   ],
   "source": [
    "function test_array()\n",
    "   my_array = Array{Integer}(50000000)\n",
    "   for i = 1:50000000\n",
    "       my_array[i] = i\n",
    "   end    \n",
    "end\n",
    "\n",
    "\n",
    "@time test_array()\n",
    "@time test_array()"
   ]
  },
  {
   "cell_type": "markdown",
   "metadata": {},
   "source": [
    "&nbsp;\n",
    "\n",
    "&nbsp;\n",
    "\n",
    "&nbsp;\n",
    "\n",
    "&nbsp;\n",
    "\n",
    "&nbsp;\n",
    "\n",
    "&nbsp;\n",
    "\n",
    "&nbsp;\n",
    "\n",
    "&nbsp;\n",
    "\n",
    "&nbsp;"
   ]
  },
  {
   "cell_type": "markdown",
   "metadata": {},
   "source": [
    "# Dict performance"
   ]
  },
  {
   "cell_type": "code",
   "execution_count": 40,
   "metadata": {},
   "outputs": [
    {
     "name": "stdout",
     "output_type": "stream",
     "text": [
      "  2.442995 seconds (11.20 k allocations: 541.764 MiB)\n",
      "  2.363757 seconds (78 allocations: 541.171 MiB)\n"
     ]
    },
    {
     "data": {
      "text/plain": [
       "49999995000000"
      ]
     },
     "execution_count": 40,
     "metadata": {},
     "output_type": "execute_result"
    }
   ],
   "source": [
    "function test_dict()\n",
    "    my_dict = Dict(v => v for v = 0:(10000000-1))\n",
    "    total = 0\n",
    "    for i = 0:(10000000-1)\n",
    "        total += my_dict[i]\n",
    "    end\n",
    "\n",
    "    total\n",
    "end           \n",
    "\n",
    "@time test_dict()\n",
    "@time test_dict()"
   ]
  },
  {
   "cell_type": "markdown",
   "metadata": {},
   "source": [
    "# String performance"
   ]
  },
  {
   "cell_type": "code",
   "execution_count": 1,
   "metadata": {},
   "outputs": [
    {
     "name": "stdout",
     "output_type": "stream",
     "text": [
      " 12.536407 seconds (502.27 k allocations: 116.464 GiB, 11.50% gc time)\n",
      "  0.005766 seconds (124.95 k allocations: 2.680 MiB)\n"
     ]
    },
    {
     "data": {
      "text/plain": [
       "17864"
      ]
     },
     "execution_count": 1,
     "metadata": {},
     "output_type": "execute_result"
    }
   ],
   "source": [
    "function test_string()\n",
    "    c = \"abcdefghij\"\n",
    "    result = \"\"\n",
    "    for i = 1:500000\n",
    "        result *= c[rand(1:10)]\n",
    "    end\n",
    "    result\n",
    "end\n",
    "\n",
    "@time r = test_string()\n",
    "@time length(matchall(r\"[g-j][d-f][a-c]\", r))"
   ]
  },
  {
   "cell_type": "markdown",
   "metadata": {},
   "source": [
    "&nbsp;\n",
    "\n",
    "&nbsp;\n",
    "\n",
    "&nbsp;\n",
    "\n",
    "&nbsp;\n",
    "\n",
    "&nbsp;\n",
    "\n",
    "&nbsp;\n",
    "\n",
    "&nbsp;\n",
    "\n",
    "&nbsp;\n",
    "\n",
    "&nbsp;"
   ]
  },
  {
   "cell_type": "markdown",
   "metadata": {},
   "source": [
    "# Parallelization"
   ]
  },
  {
   "cell_type": "code",
   "execution_count": 4,
   "metadata": {},
   "outputs": [
    {
     "data": {
      "text/plain": [
       "4-element Array{Int64,1}:\n",
       " 2\n",
       " 3\n",
       " 4\n",
       " 5"
      ]
     },
     "execution_count": 4,
     "metadata": {},
     "output_type": "execute_result"
    }
   ],
   "source": [
    "addprocs(4)"
   ]
  },
  {
   "cell_type": "code",
   "execution_count": 9,
   "metadata": {},
   "outputs": [
    {
     "name": "stdout",
     "output_type": "stream",
     "text": [
      " 12.264255 seconds (10.73 k allocations: 1.093 MiB)\n"
     ]
    },
    {
     "data": {
      "text/plain": [
       "10000-element Array{Int64,1}:\n",
       " 225350054\n",
       " 224609334\n",
       " 224940262\n",
       " 226458485\n",
       " 225286474\n",
       " 224091837\n",
       " 224996780\n",
       " 225913344\n",
       " 225716955\n",
       " 224163910\n",
       " 224880795\n",
       " 224017085\n",
       " 224811743\n",
       "         ⋮\n",
       " 224403555\n",
       " 224953699\n",
       " 225419091\n",
       " 224611000\n",
       " 226252255\n",
       " 223418746\n",
       " 225554644\n",
       " 223518420\n",
       " 222107297\n",
       " 225733517\n",
       " 225314778\n",
       " 224509246"
      ]
     },
     "execution_count": 9,
     "metadata": {},
     "output_type": "execute_result"
    }
   ],
   "source": [
    "function test_parallel()\n",
    "    sum = @parallel (+) for i = 1:30000\n",
    "        [rand(1:i) for j = 1:10000]\n",
    "    end\n",
    "    sum\n",
    "end\n",
    "\n",
    "@time test_parallel()"
   ]
  },
  {
   "cell_type": "markdown",
   "metadata": {},
   "source": [
    "&nbsp;\n",
    "\n",
    "&nbsp;\n",
    "\n",
    "&nbsp;\n",
    "\n",
    "&nbsp;\n",
    "\n",
    "&nbsp;\n",
    "\n",
    "&nbsp;\n",
    "\n",
    "&nbsp;\n",
    "\n",
    "&nbsp;\n",
    "\n",
    "&nbsp;"
   ]
  },
  {
   "cell_type": "markdown",
   "metadata": {},
   "source": [
    "# File manipulation"
   ]
  },
  {
   "cell_type": "code",
   "execution_count": 17,
   "metadata": {},
   "outputs": [
    {
     "name": "stdout",
     "output_type": "stream",
     "text": [
      "CHROMOSOME\tPOSITION\tREF\tALT\tSAMPLE\tID"
     ]
    }
   ],
   "source": [
    "open(\"ICGC_WXS_BRCA_KR.tsv\") do fd\n",
    "    for r in eachline(fd)\n",
    "        print(r)\n",
    "        break\n",
    "    end\n",
    "end"
   ]
  },
  {
   "cell_type": "markdown",
   "metadata": {},
   "source": [
    "# Dataframe"
   ]
  },
  {
   "cell_type": "code",
   "execution_count": null,
   "metadata": {},
   "outputs": [],
   "source": [
    "using DataFrames, CSV"
   ]
  },
  {
   "cell_type": "code",
   "execution_count": 2,
   "metadata": {},
   "outputs": [
    {
     "name": "stdout",
     "output_type": "stream",
     "text": [
      "  7.531191 seconds (10.97 M allocations: 407.253 MiB, 1.68% gc time)\n"
     ]
    },
    {
     "data": {
      "text/html": [
       "<table class=\"data-frame\"><thead><tr><th></th><th>CHROMOSOME</th><th>POSITION</th><th>REF</th><th>ALT</th><th>SAMPLE</th><th>ID</th></tr></thead><tbody><tr><th>1</th><td>10</td><td>107012568</td><td>C</td><td>T</td><td>TCGA-3N-A9WB-06A-11D-A38G-08</td><td>I0000000000</td></tr><tr><th>2</th><td>10</td><td>120354453</td><td>G</td><td>C</td><td>TCGA-3N-A9WB-06A-11D-A38G-08</td><td>I0000000001</td></tr><tr><th>3</th><td>10</td><td>122334682</td><td>C</td><td>T</td><td>TCGA-3N-A9WB-06A-11D-A38G-08</td><td>I0000000002</td></tr><tr><th>4</th><td>10</td><td>124345791</td><td>G</td><td>A</td><td>TCGA-3N-A9WB-06A-11D-A38G-08</td><td>I0000000003</td></tr><tr><th>5</th><td>10</td><td>1262983</td><td>G</td><td>A</td><td>TCGA-3N-A9WB-06A-11D-A38G-08</td><td>I0000000004</td></tr><tr><th>6</th><td>10</td><td>129905609</td><td>C</td><td>G</td><td>TCGA-3N-A9WB-06A-11D-A38G-08</td><td>I0000000005</td></tr></tbody></table>"
      ],
      "text/plain": [
       "6×6 DataFrames.DataFrame. Omitted printing of 1 columns\n",
       "│ Row │ CHROMOSOME │ POSITION  │ REF │ ALT │ SAMPLE                       │\n",
       "├─────┼────────────┼───────────┼─────┼─────┼──────────────────────────────┤\n",
       "│ 1   │ 10         │ 107012568 │ C   │ T   │ TCGA-3N-A9WB-06A-11D-A38G-08 │\n",
       "│ 2   │ 10         │ 120354453 │ G   │ C   │ TCGA-3N-A9WB-06A-11D-A38G-08 │\n",
       "│ 3   │ 10         │ 122334682 │ C   │ T   │ TCGA-3N-A9WB-06A-11D-A38G-08 │\n",
       "│ 4   │ 10         │ 124345791 │ G   │ A   │ TCGA-3N-A9WB-06A-11D-A38G-08 │\n",
       "│ 5   │ 10         │ 1262983   │ G   │ A   │ TCGA-3N-A9WB-06A-11D-A38G-08 │\n",
       "│ 6   │ 10         │ 129905609 │ C   │ G   │ TCGA-3N-A9WB-06A-11D-A38G-08 │"
      ]
     },
     "execution_count": 2,
     "metadata": {},
     "output_type": "execute_result"
    }
   ],
   "source": [
    "@time data = CSV.read(\"ICGC_WXS_BRCA_KR.tsv\", \n",
    "    delim='\\t', \n",
    "    types= Dict(\"CHROMOSOME\"=>String)\n",
    ")\n",
    "\n",
    "head(data)"
   ]
  },
  {
   "cell_type": "markdown",
   "metadata": {},
   "source": [
    "&nbsp;\n",
    "\n",
    "&nbsp;\n",
    "\n",
    "&nbsp;\n",
    "\n",
    "&nbsp;\n",
    "\n",
    "&nbsp;\n",
    "\n",
    "&nbsp;\n",
    "\n",
    "&nbsp;\n",
    "\n",
    "&nbsp;\n",
    "\n",
    "&nbsp;"
   ]
  },
  {
   "cell_type": "markdown",
   "metadata": {},
   "source": [
    "# Plots"
   ]
  },
  {
   "cell_type": "code",
   "execution_count": 1,
   "metadata": {},
   "outputs": [],
   "source": [
    "using PyPlot"
   ]
  },
  {
   "cell_type": "code",
   "execution_count": 3,
   "metadata": {},
   "outputs": [
    {
     "data": {
      "image/png": "[encoded data removed]",
      "text/plain": [
       "PyPlot.Figure(PyObject <matplotlib.figure.Figure object at 0x7f38201784e0>)"
      ]
     },
     "metadata": {},
     "output_type": "display_data",
     "source": "julia"
    },
    {
     "data": {
      "text/plain": [
       "PyObject <matplotlib.collections.PathCollection object at 0x7f38180c3048>"
      ]
     },
     "execution_count": 3,
     "metadata": {},
     "output_type": "execute_result"
    }
   ],
   "source": [
    "x = 100*rand(50)\n",
    "y = 100*rand(50)\n",
    "areas = 800*rand(50);\n",
    "scatter(x,y,s=areas,alpha=0.5)"
   ]
  },
  {
   "cell_type": "markdown",
   "metadata": {},
   "source": [
    "&nbsp;\n",
    "\n",
    "&nbsp;\n",
    "\n",
    "&nbsp;\n",
    "\n",
    "&nbsp;\n",
    "\n",
    "&nbsp;\n",
    "\n",
    "&nbsp;\n",
    "\n",
    "&nbsp;\n",
    "\n",
    "&nbsp;\n",
    "\n",
    "&nbsp;"
   ]
  },
  {
   "cell_type": "markdown",
   "metadata": {},
   "source": [
    "# Statistics"
   ]
  },
  {
   "cell_type": "markdown",
   "metadata": {},
   "source": [
    "https://github.com/JuliaStats"
   ]
  },
  {
   "cell_type": "markdown",
   "metadata": {},
   "source": [
    "&nbsp;\n",
    "\n",
    "&nbsp;\n",
    "\n",
    "&nbsp;\n",
    "\n",
    "&nbsp;\n",
    "\n",
    "&nbsp;\n",
    "\n",
    "&nbsp;\n",
    "\n",
    "&nbsp;\n",
    "\n",
    "&nbsp;\n",
    "\n",
    "&nbsp;"
   ]
  },
  {
   "cell_type": "markdown",
   "metadata": {},
   "source": [
    "# Julia strengths"
   ]
  },
  {
   "cell_type": "markdown",
   "metadata": {},
   "source": [
    "* Loops performance\n",
    "* Numerical analysis oriented (Numpy like arrays)\n",
    "* DataFrames and loops are friends\n",
    "* Just In Time compiler\n",
    "* Mix typed and not typed code\n",
    "* Parallelization"
   ]
  },
  {
   "cell_type": "code",
   "execution_count": null,
   "metadata": {},
   "outputs": [],
   "source": []
  }
 ],
 "metadata": {
  "kernelspec": {
   "display_name": "Julia 0.6.1",
   "language": "julia",
   "name": "julia-0.6"
  },
  "language_info": {
   "file_extension": ".jl",
   "mimetype": "application/julia",
   "name": "julia",
   "version": "0.6.1"
  }
 },
 "nbformat": 4,
 "nbformat_minor": 2
}
