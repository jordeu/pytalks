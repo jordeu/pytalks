{
 "cells": [
  {
   "cell_type": "code",
   "execution_count": 1,
   "metadata": {
    "collapsed": false,
    "slideshow": {
     "slide_type": "skip"
    }
   },
   "outputs": [],
   "source": [
    "import hashlib\n",
    "import multiprocessing\n",
    "import functools\n",
    "from IPython.display import IFrame"
   ]
  },
  {
   "cell_type": "markdown",
   "metadata": {
    "slideshow": {
     "slide_type": "slide"
    }
   },
   "source": [
    "# IPython parallel\n",
    "\n",
    "Jordi Deu-Pons \n",
    "@elbioc\n",
    "\n",
    "17/12/2015"
   ]
  },
  {
   "cell_type": "code",
   "execution_count": 3,
   "metadata": {
    "collapsed": false,
    "slideshow": {
     "slide_type": "slide"
    }
   },
   "outputs": [
    {
     "name": "stdout",
     "output_type": "stream",
     "text": [
      "Me: {{{{{{{{{{ vs _\n"
     ]
    }
   ],
   "source": [
    "print(\"Me: {} vs {}\".format('{'*10,'_'*1))"
   ]
  },
  {
   "cell_type": "code",
   "execution_count": 2,
   "metadata": {
    "collapsed": false,
    "slideshow": {
     "slide_type": "slide"
    }
   },
   "outputs": [
    {
     "data": {
      "text/html": [
       "\n",
       "        <iframe\n",
       "            width=\"700\"\n",
       "            height=\"650\"\n",
       "            src=\"http://www.adventofcode.com\"\n",
       "            frameborder=\"0\"\n",
       "            allowfullscreen\n",
       "        ></iframe>\n",
       "        "
      ],
      "text/plain": [
       "<IPython.lib.display.IFrame at 0x7f494c21afd0>"
      ]
     },
     "execution_count": 2,
     "metadata": {},
     "output_type": "execute_result"
    }
   ],
   "source": [
    "IFrame(\"http://www.adventofcode.com\", width=700, height=650)"
   ]
  },
  {
   "cell_type": "code",
   "execution_count": 4,
   "metadata": {
    "collapsed": true,
    "slideshow": {
     "slide_type": "slide"
    }
   },
   "outputs": [],
   "source": [
    "def valid_adventcoin(key, value):\n",
    "    hash_value = hashlib.md5(\"{}{}\".format(key, value).encode('utf-8'))\n",
    "    return hash_value.hexdigest().startswith(\"00000\")\n",
    "\n",
    "def mine_adventcoin(key):\n",
    "    value = 0\n",
    "    while not valid_adventcoin(key, value):\n",
    "        value += 1        \n",
    "    return value"
   ]
  },
  {
   "cell_type": "code",
   "execution_count": 6,
   "metadata": {
    "collapsed": false,
    "slideshow": {
     "slide_type": "slide"
    }
   },
   "outputs": [
    {
     "name": "stdout",
     "output_type": "stream",
     "text": [
      "1048970 1048970 1048970 \n",
      "We have 3 advent coin!\n",
      "\n",
      "CPU times: user 25.2 s, sys: 24 ms, total: 25.3 s\n",
      "Wall time: 25.3 s\n"
     ]
    }
   ],
   "source": [
    "%%time\n",
    "coins = [\"pqrstuv\", \"pqrstuv\", \"pqrstuv\"]\n",
    "\n",
    "for c in coins:\n",
    "    print(mine_adventcoin(c), flush=True, end=\" \")\n",
    "    \n",
    "print(\"\\nWe have {} advent coin!\\n\".format(len(coins)))"
   ]
  },
  {
   "cell_type": "code",
   "execution_count": 8,
   "metadata": {
    "collapsed": false,
    "slideshow": {
     "slide_type": "slide"
    }
   },
   "outputs": [
    {
     "name": "stdout",
     "output_type": "stream",
     "text": [
      "1048970\n",
      "1048970\n",
      "1048970\n",
      "\n",
      "We have 3 advent coin!\n",
      "\n",
      "CPU times: user 29.3 ms, sys: 16 ms, total: 45.3 ms\n",
      "Wall time: 12.9 s\n"
     ]
    }
   ],
   "source": [
    "%%time\n",
    "\n",
    "pool = multiprocessing.Pool(3)    \n",
    "for r in pool.imap(mine_adventcoin, coins):\n",
    "    print(r, flush=True)\n",
    "    \n",
    "print(\"\\nWe have {} advent coin!\\n\".format(len(coins)))"
   ]
  },
  {
   "cell_type": "code",
   "execution_count": 9,
   "metadata": {
    "collapsed": true,
    "slideshow": {
     "slide_type": "slide"
    }
   },
   "outputs": [],
   "source": [
    "def mine_adventcoin(key):    \n",
    "    if USER != 'Santa Claus':\n",
    "        return \"ERROR: {} you are not Santa Claus!\".format(USER)        \n",
    "    value = 0\n",
    "    while not valid_adventcoin(key, value):\n",
    "        value += 1               \n",
    "    return value"
   ]
  },
  {
   "cell_type": "code",
   "execution_count": 10,
   "metadata": {
    "collapsed": false,
    "slideshow": {
     "slide_type": "slide"
    }
   },
   "outputs": [
    {
     "name": "stdout",
     "output_type": "stream",
     "text": [
      "ERROR: Cagatio you are not Santa Claus!\n",
      "ERROR: Cagatio you are not Santa Claus!\n",
      "ERROR: Cagatio you are not Santa Claus!\n",
      "\n",
      "USER: Santa Claus\n",
      "\n",
      "CPU times: user 20.9 ms, sys: 4.01 ms, total: 24.9 ms\n",
      "Wall time: 26.8 ms\n"
     ]
    }
   ],
   "source": [
    "%%time\n",
    "USER = 'Cagatio'\n",
    "pool = multiprocessing.Pool(3)\n",
    "USER = 'Santa Claus'\n",
    "\n",
    "for r in pool.imap(mine_adventcoin, coins):\n",
    "    print(r, flush=True)\n",
    "print(\"\\nUSER: {}\\n\".format(USER))"
   ]
  },
  {
   "cell_type": "markdown",
   "metadata": {
    "slideshow": {
     "slide_type": "slide"
    }
   },
   "source": [
    "When you spawn a process, the globals from the calling module are copied to the spawned process. However, on Linux, which has copy-on-write, the very same data structure(s) is used by the spawned processes, so no extra memory is required. Only when a process modifies the data structure is it copied to a new location."
   ]
  },
  {
   "cell_type": "code",
   "execution_count": 11,
   "metadata": {
    "collapsed": false,
    "slideshow": {
     "slide_type": "slide"
    }
   },
   "outputs": [
    {
     "name": "stdout",
     "output_type": "stream",
     "text": [
      "1048970\n",
      "1048970\n",
      "1048970\n",
      "\n",
      "USER: Santa Claus\n",
      "\n",
      "CPU times: user 28.6 s, sys: 299 ms, total: 28.9 s\n",
      "Wall time: 28.7 s\n"
     ]
    }
   ],
   "source": [
    "%%time\n",
    "USER = 'Cagatio'\n",
    "pool = multiprocessing.pool.ThreadPool(3)\n",
    "USER = 'Santa Claus'\n",
    "\n",
    "for r in pool.imap(mine_adventcoin, coins):\n",
    "    print(r, flush=True)\n",
    "print(\"\\nUSER: {}\\n\".format(USER))"
   ]
  },
  {
   "cell_type": "markdown",
   "metadata": {
    "collapsed": true,
    "slideshow": {
     "slide_type": "slide"
    }
   },
   "source": [
    "## Install IPython parallel\n",
    "`conda install ipyparallel`\n",
    "\n",
    "## Generate notebook config files\n",
    "`jupyter notebook --generate-config`\n",
    "\n",
    "## Add this line to the notebook config file\n",
    "`echo \"c.NotebookApp.server_extensions.append('ipyparallel.nbextension')\" >> ~/.jupyter/jupyter_notebook_config.py` "
   ]
  },
  {
   "cell_type": "code",
   "execution_count": null,
   "metadata": {
    "collapsed": false,
    "slideshow": {
     "slide_type": "slide"
    }
   },
   "outputs": [],
   "source": [
    "from ipyparallel import Client\n",
    "c = Client(profile=\"default\")\n",
    "pool = c[:]\n",
    "for r in pool.imap(mine_adventcoin, coins):\n",
    "    print(r, flush=True)"
   ]
  },
  {
   "cell_type": "code",
   "execution_count": null,
   "metadata": {
    "collapsed": true,
    "slideshow": {
     "slide_type": "slide"
    }
   },
   "outputs": [],
   "source": [
    "%%px \n",
    "import hashlib\n",
    "USER = \"Santa Claus\"\n",
    "def valid_adventcoin(key, value):\n",
    "    hash_value = hashlib.md5(\"{}{}\".format(key, value).encode('utf-8'))\n",
    "    return hash_value.hexdigest().startswith(\"00000\")"
   ]
  },
  {
   "cell_type": "code",
   "execution_count": null,
   "metadata": {
    "collapsed": false,
    "slideshow": {
     "slide_type": "slide"
    }
   },
   "outputs": [],
   "source": [
    "%%time\n",
    "for r in pool.imap(mine_adventcoin, coins):\n",
    "    print(r, flush=True)    \n",
    "print(\"\\nWe have {} advent coin!\\n\".format(len(coins)))"
   ]
  },
  {
   "cell_type": "code",
   "execution_count": null,
   "metadata": {
    "collapsed": false,
    "slideshow": {
     "slide_type": "slide"
    }
   },
   "outputs": [],
   "source": [
    "from ipyparallel import Client\n",
    "\n",
    "c = Client(profile=\"sge\")\n",
    "pool = c[:]"
   ]
  },
  {
   "cell_type": "code",
   "execution_count": null,
   "metadata": {
    "collapsed": true,
    "slideshow": {
     "slide_type": "slide"
    }
   },
   "outputs": [],
   "source": [
    "%%px --local\n",
    "import hashlib\n",
    "\n",
    "def valid_adventcoin(key, value):\n",
    "    hash_value = hashlib.md5(\"{}{}\".format(key, value).encode('utf-8'))\n",
    "    return hash_value.hexdigest().startswith(\"00000\")\n",
    "\n",
    "def mine_adventcoin(key):\n",
    "    value = 0\n",
    "    while not valid_adventcoin(key, value):\n",
    "        value += 1        \n",
    "    return value"
   ]
  },
  {
   "cell_type": "code",
   "execution_count": null,
   "metadata": {
    "collapsed": false,
    "slideshow": {
     "slide_type": "slide"
    }
   },
   "outputs": [],
   "source": [
    "%%time\n",
    "coins = [\"pqrstuv\"] * 100\n",
    "for r in pool.imap(mine_adventcoin, coins):\n",
    "    print(\"#\", flush=True, end=\"\")\n",
    "    \n",
    "print(\"\\nWe have {} advent coin!\\n\".format(len(coins)))"
   ]
  },
  {
   "cell_type": "markdown",
   "metadata": {
    "slideshow": {
     "slide_type": "slide"
    }
   },
   "source": [
    "# Thanks\n",
    "\n",
    "Jordi Deu-Pons\n",
    "\n",
    "@elbioc\n"
   ]
  }
 ],
 "metadata": {
  "celltoolbar": "Slideshow",
  "kernelspec": {
   "display_name": "Python 3",
   "language": "python",
   "name": "python3"
  },
  "language_info": {
   "codemirror_mode": {
    "name": "ipython",
    "version": 3
   },
   "file_extension": ".py",
   "mimetype": "text/x-python",
   "name": "python",
   "nbconvert_exporter": "python",
   "pygments_lexer": "ipython3",
   "version": "3.4.3"
  }
 },
 "nbformat": 4,
 "nbformat_minor": 0
}
